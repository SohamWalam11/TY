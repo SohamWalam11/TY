{
  "nbformat": 4,
  "nbformat_minor": 0,
  "metadata": {
    "colab": {
      "provenance": [],
      "gpuType": "V28"
    },
    "kernelspec": {
      "name": "python3",
      "display_name": "Python 3"
    },
    "language_info": {
      "name": "python"
    },
    "accelerator": "TPU"
  },
  "cells": [
    {
      "cell_type": "markdown",
      "source": [
        "# Binary Step Function"
      ],
      "metadata": {
        "id": "RAFAWWHa3YwJ"
      }
    },
    {
      "cell_type": "markdown",
      "source": [
        "Base step function AND Gate\n"
      ],
      "metadata": {
        "id": "03v1B_X5KQ6b"
      }
    },
    {
      "cell_type": "code",
      "source": [
        "def function(z):\n",
        "    return 1 if z > 0 else 0\n",
        "\n",
        "def logic(x1, x2, w1, w2, bias):\n",
        "    z = w1 * x1 + w2 * x2 + bias\n",
        "    return function(z)\n",
        "\n",
        "def AND_gate(x1, x2, w1, w2, bias):\n",
        "    return logic(x1, x2, w1, w2, bias)\n",
        "\n",
        "def print_table_2input(title, gate_func, w1, w2, bias):\n",
        "    print(f\"\\n{title}\")\n",
        "    print(\"+-------+-------+--------+\")\n",
        "    print(\"|  x1   |  x2   | Output |\")\n",
        "    print(\"+-------+-------+--------+\")\n",
        "    for x1 in (0, 1):\n",
        "        for x2 in (0, 1):\n",
        "            output = gate_func(x1, x2, w1, w2, bias)\n",
        "            print(f\"|   {x1}   |   {x2}   |   {output}    |\")\n",
        "    print(\"+-------+-------+--------+\")\n",
        "    print(f\"\\nFinal weights and bias for {title}:\")\n",
        "    print(f\"w1 = {w1}, w2 = {w2}, bias = {bias}\")\n",
        "\n",
        "default_and = (1, 1, -1.5)\n",
        "print_table_2input(\"AND Gate Truth Table\", AND_gate, *default_and)\n"
      ],
      "metadata": {
        "colab": {
          "base_uri": "https://localhost:8080/"
        },
        "id": "lvjH-1atCrcO",
        "outputId": "e047662d-eace-47bc-b620-18dda88a16e4"
      },
      "execution_count": null,
      "outputs": [
        {
          "output_type": "stream",
          "name": "stdout",
          "text": [
            "\n",
            "AND Gate Truth Table\n",
            "+-------+-------+--------+\n",
            "|  x1   |  x2   | Output |\n",
            "+-------+-------+--------+\n",
            "|   0   |   0   |   0    |\n",
            "|   0   |   1   |   0    |\n",
            "|   1   |   0   |   0    |\n",
            "|   1   |   1   |   1    |\n",
            "+-------+-------+--------+\n",
            "\n",
            "Final weights and bias for AND Gate Truth Table:\n",
            "w1 = 1, w2 = 1, bias = -1.5\n"
          ]
        }
      ]
    },
    {
      "cell_type": "markdown",
      "source": [
        "OR gate"
      ],
      "metadata": {
        "id": "0DpK5NcMKWir"
      }
    },
    {
      "cell_type": "code",
      "source": [
        "def OR_gate(x1, x2, w1, w2, bias):\n",
        "    return logic(x1, x2, w1, w2, bias)\n",
        "\n",
        "default_or = (1, 1, -0.5)\n",
        "print_table_2input(\"OR Gate Truth Table\", OR_gate, *default_or)\n"
      ],
      "metadata": {
        "colab": {
          "base_uri": "https://localhost:8080/"
        },
        "id": "3ThkjCWtKX8d",
        "outputId": "e318dd35-a1f2-4b42-9cb6-3f5fcac6f028"
      },
      "execution_count": null,
      "outputs": [
        {
          "output_type": "stream",
          "name": "stdout",
          "text": [
            "\n",
            "OR Gate Truth Table\n",
            "+-------+-------+--------+\n",
            "|  x1   |  x2   | Output |\n",
            "+-------+-------+--------+\n",
            "|   0   |   0   |   0    |\n",
            "|   0   |   1   |   1    |\n",
            "|   1   |   0   |   1    |\n",
            "|   1   |   1   |   1    |\n",
            "+-------+-------+--------+\n",
            "\n",
            "Final weights and bias for OR Gate Truth Table:\n",
            "w1 = 1, w2 = 1, bias = -0.5\n"
          ]
        }
      ]
    },
    {
      "cell_type": "markdown",
      "source": [
        "OR Gate"
      ],
      "metadata": {
        "id": "rPxGfHArKdol"
      }
    },
    {
      "cell_type": "code",
      "source": [
        "def OR_gate(x1, x2, w1, w2, bias):\n",
        "    return logic(x1, x2, w1, w2, bias)\n",
        "\n",
        "default_or = (1, 1, -0.5)\n",
        "print_table_2input(\"OR Gate Truth Table\", OR_gate, *default_or)\n"
      ],
      "metadata": {
        "colab": {
          "base_uri": "https://localhost:8080/"
        },
        "id": "J80Sv1YrKZYN",
        "outputId": "443cb07d-25d8-4c47-9e4f-3a3da962df6c"
      },
      "execution_count": null,
      "outputs": [
        {
          "output_type": "stream",
          "name": "stdout",
          "text": [
            "\n",
            "OR Gate Truth Table\n",
            "+-------+-------+--------+\n",
            "|  x1   |  x2   | Output |\n",
            "+-------+-------+--------+\n",
            "|   0   |   0   |   0    |\n",
            "|   0   |   1   |   1    |\n",
            "|   1   |   0   |   1    |\n",
            "|   1   |   1   |   1    |\n",
            "+-------+-------+--------+\n",
            "\n",
            "Final weights and bias for OR Gate Truth Table:\n",
            "w1 = 1, w2 = 1, bias = -0.5\n"
          ]
        }
      ]
    },
    {
      "cell_type": "markdown",
      "source": [
        "NAND Gate"
      ],
      "metadata": {
        "id": "ISR9P0JmKfxt"
      }
    },
    {
      "cell_type": "code",
      "source": [
        "def NAND_gate(x1, x2, w1, w2, bias):\n",
        "    return logic(x1, x2, w1, w2, bias)\n",
        "\n",
        "default_nand = (-2, -2, 3)\n",
        "print_table_2input(\"NAND Gate Truth Table\", NAND_gate, *default_nand)\n"
      ],
      "metadata": {
        "colab": {
          "base_uri": "https://localhost:8080/"
        },
        "id": "BE8mzm2hKbSt",
        "outputId": "c7e370c5-d90e-44b4-bded-638d4c9b607c"
      },
      "execution_count": null,
      "outputs": [
        {
          "output_type": "stream",
          "name": "stdout",
          "text": [
            "\n",
            "NAND Gate Truth Table\n",
            "+-------+-------+--------+\n",
            "|  x1   |  x2   | Output |\n",
            "+-------+-------+--------+\n",
            "|   0   |   0   |   1    |\n",
            "|   0   |   1   |   1    |\n",
            "|   1   |   0   |   1    |\n",
            "|   1   |   1   |   0    |\n",
            "+-------+-------+--------+\n",
            "\n",
            "Final weights and bias for NAND Gate Truth Table:\n",
            "w1 = -2, w2 = -2, bias = 3\n"
          ]
        }
      ]
    },
    {
      "cell_type": "markdown",
      "source": [
        "NOR Gate"
      ],
      "metadata": {
        "id": "ZOZgXtmkKiW9"
      }
    },
    {
      "cell_type": "code",
      "source": [
        "def NOR_gate(x1, x2, w1, w2, bias):\n",
        "    return logic(x1, x2, w1, w2, bias)\n",
        "\n",
        "default_nor = (-1, -1, 0.5)\n",
        "print_table_2input(\"NOR Gate Truth Table\", NOR_gate, *default_nor)\n"
      ],
      "metadata": {
        "colab": {
          "base_uri": "https://localhost:8080/"
        },
        "id": "-eHG91x-Ki6d",
        "outputId": "014e4fc3-5094-4856-8237-413fe4072264"
      },
      "execution_count": null,
      "outputs": [
        {
          "output_type": "stream",
          "name": "stdout",
          "text": [
            "\n",
            "NOR Gate Truth Table\n",
            "+-------+-------+--------+\n",
            "|  x1   |  x2   | Output |\n",
            "+-------+-------+--------+\n",
            "|   0   |   0   |   1    |\n",
            "|   0   |   1   |   0    |\n",
            "|   1   |   0   |   0    |\n",
            "|   1   |   1   |   0    |\n",
            "+-------+-------+--------+\n",
            "\n",
            "Final weights and bias for NOR Gate Truth Table:\n",
            "w1 = -1, w2 = -1, bias = 0.5\n"
          ]
        }
      ]
    },
    {
      "cell_type": "markdown",
      "source": [
        "NOT Gate"
      ],
      "metadata": {
        "id": "IsU4iQLBKlh9"
      }
    },
    {
      "cell_type": "code",
      "source": [
        "def logic_not(x1, w1, bias):\n",
        "    z = w1 * x1 + bias\n",
        "    return function(z)\n",
        "\n",
        "def NOT_gate(x1, w1, bias):\n",
        "    return logic_not(x1, w1, bias)\n",
        "\n",
        "def print_table_not(title, gate_func, w1, bias):\n",
        "    print(f\"\\n{title}\")\n",
        "    print(\"+-------+--------+\")\n",
        "    print(\"|  x1   | Output |\")\n",
        "    print(\"+-------+--------+\")\n",
        "    for x1 in (0, 1):\n",
        "        output = gate_func(x1, w1, bias)\n",
        "        print(f\"|   {x1}   |   {output}    |\")\n",
        "    print(\"+-------+--------+\")\n",
        "    print(f\"\\nFinal weights and bias for {title}:\")\n",
        "    print(f\"w1 = {w1}, bias = {bias}\")\n",
        "\n",
        "default_not = (-1, 0.5)\n",
        "print_table_not(\"NOT Gate Truth Table\", NOT_gate, *default_not)\n"
      ],
      "metadata": {
        "colab": {
          "base_uri": "https://localhost:8080/"
        },
        "id": "mVWbwyKxKjW9",
        "outputId": "5bea31a1-857d-4fe7-bb1c-450548d953a5"
      },
      "execution_count": null,
      "outputs": [
        {
          "output_type": "stream",
          "name": "stdout",
          "text": [
            "\n",
            "NOT Gate Truth Table\n",
            "+-------+--------+\n",
            "|  x1   | Output |\n",
            "+-------+--------+\n",
            "|   0   |   1    |\n",
            "|   1   |   0    |\n",
            "+-------+--------+\n",
            "\n",
            "Final weights and bias for NOT Gate Truth Table:\n",
            "w1 = -1, bias = 0.5\n"
          ]
        }
      ]
    },
    {
      "cell_type": "markdown",
      "source": [
        "XOR Gate"
      ],
      "metadata": {
        "id": "1L-9LOwKKm7I"
      }
    },
    {
      "cell_type": "code",
      "source": [
        "def AND_gate(x1, x2, w1, w2, bias):\n",
        "    return logic(x1, x2, w1, w2, bias)\n",
        "\n",
        "def NAND_gate(x1, x2, w1, w2, bias):\n",
        "    return logic(x1, x2, w1, w2, bias)\n",
        "\n",
        "def OR_gate(x1, x2, w1, w2, bias):\n",
        "    return logic(x1, x2, w1, w2, bias)\n",
        "\n",
        "def XOR_gate(x1, x2, nand_params, or_params, and_params):\n",
        "    s1 = NAND_gate(x1, x2, *nand_params)\n",
        "    s2 = OR_gate(x1, x2, *or_params)\n",
        "    return AND_gate(s1, s2, *and_params)\n",
        "\n",
        "xor_nand_params = (-2, -2, 3)\n",
        "xor_or_params = (1, 1, -0.5)\n",
        "xor_and_params = (1, 1, -1.5)\n",
        "\n",
        "print(\"\\nXOR Gate Truth Table\")\n",
        "print(\"+-------+-------+--------+\")\n",
        "print(\"|  x1   |  x2   | Output |\")\n",
        "print(\"+-------+-------+--------+\")\n",
        "for x1 in (0, 1):\n",
        "    for x2 in (0, 1):\n",
        "        output = XOR_gate(x1, x2, xor_nand_params, xor_or_params, xor_and_params)\n",
        "        print(f\"|   {x1}   |   {x2}   |   {output}    |\")\n",
        "print(\"+-------+-------+--------+\")\n",
        "\n",
        "print(\"\\nFinal weights and bias for XOR gate (NAND part):\")\n",
        "print(f\"w1 = {xor_nand_params[0]}, w2 = {xor_nand_params[1]}, bias = {xor_nand_params[2]}\")\n",
        "print(\"Final weights and bias for XOR gate (OR part):\")\n",
        "print(f\"w1 = {xor_or_params[0]}, w2 = {xor_or_params[1]}, bias = {xor_or_params[2]}\")\n",
        "print(\"Final weights and bias for XOR gate (AND part):\")\n",
        "print(f\"w1 = {xor_and_params[0]}, w2 = {xor_and_params[1]}, bias = {xor_and_params[2]}\")\n"
      ],
      "metadata": {
        "colab": {
          "base_uri": "https://localhost:8080/"
        },
        "id": "lCDROhN6KmZw",
        "outputId": "c98bca2e-326e-406b-a8fe-f4bcbc93d4ef"
      },
      "execution_count": null,
      "outputs": [
        {
          "output_type": "stream",
          "name": "stdout",
          "text": [
            "\n",
            "XOR Gate Truth Table\n",
            "+-------+-------+--------+\n",
            "|  x1   |  x2   | Output |\n",
            "+-------+-------+--------+\n",
            "|   0   |   0   |   0    |\n",
            "|   0   |   1   |   1    |\n",
            "|   1   |   0   |   1    |\n",
            "|   1   |   1   |   0    |\n",
            "+-------+-------+--------+\n",
            "\n",
            "Final weights and bias for XOR gate (NAND part):\n",
            "w1 = -2, w2 = -2, bias = 3\n",
            "Final weights and bias for XOR gate (OR part):\n",
            "w1 = 1, w2 = 1, bias = -0.5\n",
            "Final weights and bias for XOR gate (AND part):\n",
            "w1 = 1, w2 = 1, bias = -1.5\n"
          ]
        }
      ]
    },
    {
      "cell_type": "markdown",
      "source": [
        "Final Weights"
      ],
      "metadata": {
        "id": "9YeaunkjMlt4"
      }
    },
    {
      "cell_type": "code",
      "source": [
        "print(\"\\nFinal weights and bias for XOR gate (NAND part):\")\n",
        "print(f\"w1 = {xor_nand_params[0]}, w2 = {xor_nand_params[1]}, bias = {xor_nand_params[2]}\")\n",
        "print(\"Final weights and bias for XOR gate (OR part):\")\n",
        "print(f\"w1 = {xor_or_params[0]}, w2 = {xor_or_params[1]}, bias = {xor_or_params[2]}\")\n",
        "print(\"Final weights and bias for XOR gate (AND part):\")\n",
        "print(f\"w1 = {xor_and_params[0]}, w2 = {xor_and_params[1]}, bias = {xor_and_params[2]}\")\n"
      ],
      "metadata": {
        "colab": {
          "base_uri": "https://localhost:8080/"
        },
        "id": "TiG0sALgKp3A",
        "outputId": "8e2d51db-195f-4eed-ffb6-4ff4fb6fb1e4"
      },
      "execution_count": null,
      "outputs": [
        {
          "output_type": "stream",
          "name": "stdout",
          "text": [
            "\n",
            "Final weights and bias for XOR gate (NAND part):\n",
            "w1 = -2, w2 = -2, bias = 3\n",
            "Final weights and bias for XOR gate (OR part):\n",
            "w1 = 1, w2 = 1, bias = -0.5\n",
            "Final weights and bias for XOR gate (AND part):\n",
            "w1 = 1, w2 = 1, bias = -1.5\n"
          ]
        }
      ]
    }
  ]
}