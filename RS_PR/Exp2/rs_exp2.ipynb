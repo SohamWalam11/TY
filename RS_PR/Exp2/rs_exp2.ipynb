{
 "cells": [
  {
   "cell_type": "markdown",
   "id": "389bd001",
   "metadata": {},
   "source": [
    "libraries"
   ]
  },
  {
   "cell_type": "code",
   "execution_count": null,
   "id": "f05f72a1",
   "metadata": {},
   "outputs": [],
   "source": [
    "import pandas as pd\n",
    "from sklearn.feature_extraction.text import TfidfVectorizer\n",
    "from sklearn.metrics.pairwise import cosine_similarity, linear_kernel\n"
   ]
  },
  {
   "cell_type": "markdown",
   "id": "72bfdbd2",
   "metadata": {},
   "source": [
    "load dataset"
   ]
  },
  {
   "cell_type": "code",
   "execution_count": null,
   "id": "f5a04a38",
   "metadata": {},
   "outputs": [
    {
     "name": "stderr",
     "output_type": "stream",
     "text": [
      "c:\\Users\\djsce.student\\Anaconda3\\lib\\site-packages\\IPython\\core\\interactiveshell.py:3165: DtypeWarning: Columns (10) have mixed types.Specify dtype option on import or set low_memory=False.\n",
      "  has_raised = await self.run_ast_nodes(code_ast.body, cell_name,\n"
     ]
    },
    {
     "data": {
      "text/html": [
       "<div>\n",
       "<style scoped>\n",
       "    .dataframe tbody tr th:only-of-type {\n",
       "        vertical-align: middle;\n",
       "    }\n",
       "\n",
       "    .dataframe tbody tr th {\n",
       "        vertical-align: top;\n",
       "    }\n",
       "\n",
       "    .dataframe thead th {\n",
       "        text-align: right;\n",
       "    }\n",
       "</style>\n",
       "<table border=\"1\" class=\"dataframe\">\n",
       "  <thead>\n",
       "    <tr style=\"text-align: right;\">\n",
       "      <th></th>\n",
       "      <th>adult</th>\n",
       "      <th>belongs_to_collection</th>\n",
       "      <th>budget</th>\n",
       "      <th>genres</th>\n",
       "      <th>homepage</th>\n",
       "      <th>id</th>\n",
       "      <th>imdb_id</th>\n",
       "      <th>original_language</th>\n",
       "      <th>original_title</th>\n",
       "      <th>overview</th>\n",
       "      <th>...</th>\n",
       "      <th>release_date</th>\n",
       "      <th>revenue</th>\n",
       "      <th>runtime</th>\n",
       "      <th>spoken_languages</th>\n",
       "      <th>status</th>\n",
       "      <th>tagline</th>\n",
       "      <th>title</th>\n",
       "      <th>video</th>\n",
       "      <th>vote_average</th>\n",
       "      <th>vote_count</th>\n",
       "    </tr>\n",
       "  </thead>\n",
       "  <tbody>\n",
       "    <tr>\n",
       "      <th>0</th>\n",
       "      <td>False</td>\n",
       "      <td>{'id': 10194, 'name': 'Toy Story Collection', ...</td>\n",
       "      <td>30000000</td>\n",
       "      <td>[{'id': 16, 'name': 'Animation'}, {'id': 35, '...</td>\n",
       "      <td>http://toystory.disney.com/toy-story</td>\n",
       "      <td>862</td>\n",
       "      <td>tt0114709</td>\n",
       "      <td>en</td>\n",
       "      <td>Toy Story</td>\n",
       "      <td>Led by Woody, Andy's toys live happily in his ...</td>\n",
       "      <td>...</td>\n",
       "      <td>1995-10-30</td>\n",
       "      <td>373554033.0</td>\n",
       "      <td>81.0</td>\n",
       "      <td>[{'iso_639_1': 'en', 'name': 'English'}]</td>\n",
       "      <td>Released</td>\n",
       "      <td>NaN</td>\n",
       "      <td>Toy Story</td>\n",
       "      <td>False</td>\n",
       "      <td>7.7</td>\n",
       "      <td>5415.0</td>\n",
       "    </tr>\n",
       "    <tr>\n",
       "      <th>1</th>\n",
       "      <td>False</td>\n",
       "      <td>NaN</td>\n",
       "      <td>65000000</td>\n",
       "      <td>[{'id': 12, 'name': 'Adventure'}, {'id': 14, '...</td>\n",
       "      <td>NaN</td>\n",
       "      <td>8844</td>\n",
       "      <td>tt0113497</td>\n",
       "      <td>en</td>\n",
       "      <td>Jumanji</td>\n",
       "      <td>When siblings Judy and Peter discover an encha...</td>\n",
       "      <td>...</td>\n",
       "      <td>1995-12-15</td>\n",
       "      <td>262797249.0</td>\n",
       "      <td>104.0</td>\n",
       "      <td>[{'iso_639_1': 'en', 'name': 'English'}, {'iso...</td>\n",
       "      <td>Released</td>\n",
       "      <td>Roll the dice and unleash the excitement!</td>\n",
       "      <td>Jumanji</td>\n",
       "      <td>False</td>\n",
       "      <td>6.9</td>\n",
       "      <td>2413.0</td>\n",
       "    </tr>\n",
       "    <tr>\n",
       "      <th>2</th>\n",
       "      <td>False</td>\n",
       "      <td>{'id': 119050, 'name': 'Grumpy Old Men Collect...</td>\n",
       "      <td>0</td>\n",
       "      <td>[{'id': 10749, 'name': 'Romance'}, {'id': 35, ...</td>\n",
       "      <td>NaN</td>\n",
       "      <td>15602</td>\n",
       "      <td>tt0113228</td>\n",
       "      <td>en</td>\n",
       "      <td>Grumpier Old Men</td>\n",
       "      <td>A family wedding reignites the ancient feud be...</td>\n",
       "      <td>...</td>\n",
       "      <td>1995-12-22</td>\n",
       "      <td>0.0</td>\n",
       "      <td>101.0</td>\n",
       "      <td>[{'iso_639_1': 'en', 'name': 'English'}]</td>\n",
       "      <td>Released</td>\n",
       "      <td>Still Yelling. Still Fighting. Still Ready for...</td>\n",
       "      <td>Grumpier Old Men</td>\n",
       "      <td>False</td>\n",
       "      <td>6.5</td>\n",
       "      <td>92.0</td>\n",
       "    </tr>\n",
       "    <tr>\n",
       "      <th>3</th>\n",
       "      <td>False</td>\n",
       "      <td>NaN</td>\n",
       "      <td>16000000</td>\n",
       "      <td>[{'id': 35, 'name': 'Comedy'}, {'id': 18, 'nam...</td>\n",
       "      <td>NaN</td>\n",
       "      <td>31357</td>\n",
       "      <td>tt0114885</td>\n",
       "      <td>en</td>\n",
       "      <td>Waiting to Exhale</td>\n",
       "      <td>Cheated on, mistreated and stepped on, the wom...</td>\n",
       "      <td>...</td>\n",
       "      <td>1995-12-22</td>\n",
       "      <td>81452156.0</td>\n",
       "      <td>127.0</td>\n",
       "      <td>[{'iso_639_1': 'en', 'name': 'English'}]</td>\n",
       "      <td>Released</td>\n",
       "      <td>Friends are the people who let you be yourself...</td>\n",
       "      <td>Waiting to Exhale</td>\n",
       "      <td>False</td>\n",
       "      <td>6.1</td>\n",
       "      <td>34.0</td>\n",
       "    </tr>\n",
       "    <tr>\n",
       "      <th>4</th>\n",
       "      <td>False</td>\n",
       "      <td>{'id': 96871, 'name': 'Father of the Bride Col...</td>\n",
       "      <td>0</td>\n",
       "      <td>[{'id': 35, 'name': 'Comedy'}]</td>\n",
       "      <td>NaN</td>\n",
       "      <td>11862</td>\n",
       "      <td>tt0113041</td>\n",
       "      <td>en</td>\n",
       "      <td>Father of the Bride Part II</td>\n",
       "      <td>Just when George Banks has recovered from his ...</td>\n",
       "      <td>...</td>\n",
       "      <td>1995-02-10</td>\n",
       "      <td>76578911.0</td>\n",
       "      <td>106.0</td>\n",
       "      <td>[{'iso_639_1': 'en', 'name': 'English'}]</td>\n",
       "      <td>Released</td>\n",
       "      <td>Just When His World Is Back To Normal... He's ...</td>\n",
       "      <td>Father of the Bride Part II</td>\n",
       "      <td>False</td>\n",
       "      <td>5.7</td>\n",
       "      <td>173.0</td>\n",
       "    </tr>\n",
       "  </tbody>\n",
       "</table>\n",
       "<p>5 rows × 24 columns</p>\n",
       "</div>"
      ],
      "text/plain": [
       "   adult                              belongs_to_collection    budget  \\\n",
       "0  False  {'id': 10194, 'name': 'Toy Story Collection', ...  30000000   \n",
       "1  False                                                NaN  65000000   \n",
       "2  False  {'id': 119050, 'name': 'Grumpy Old Men Collect...         0   \n",
       "3  False                                                NaN  16000000   \n",
       "4  False  {'id': 96871, 'name': 'Father of the Bride Col...         0   \n",
       "\n",
       "                                              genres  \\\n",
       "0  [{'id': 16, 'name': 'Animation'}, {'id': 35, '...   \n",
       "1  [{'id': 12, 'name': 'Adventure'}, {'id': 14, '...   \n",
       "2  [{'id': 10749, 'name': 'Romance'}, {'id': 35, ...   \n",
       "3  [{'id': 35, 'name': 'Comedy'}, {'id': 18, 'nam...   \n",
       "4                     [{'id': 35, 'name': 'Comedy'}]   \n",
       "\n",
       "                               homepage     id    imdb_id original_language  \\\n",
       "0  http://toystory.disney.com/toy-story    862  tt0114709                en   \n",
       "1                                   NaN   8844  tt0113497                en   \n",
       "2                                   NaN  15602  tt0113228                en   \n",
       "3                                   NaN  31357  tt0114885                en   \n",
       "4                                   NaN  11862  tt0113041                en   \n",
       "\n",
       "                original_title  \\\n",
       "0                    Toy Story   \n",
       "1                      Jumanji   \n",
       "2             Grumpier Old Men   \n",
       "3            Waiting to Exhale   \n",
       "4  Father of the Bride Part II   \n",
       "\n",
       "                                            overview  ... release_date  \\\n",
       "0  Led by Woody, Andy's toys live happily in his ...  ...   1995-10-30   \n",
       "1  When siblings Judy and Peter discover an encha...  ...   1995-12-15   \n",
       "2  A family wedding reignites the ancient feud be...  ...   1995-12-22   \n",
       "3  Cheated on, mistreated and stepped on, the wom...  ...   1995-12-22   \n",
       "4  Just when George Banks has recovered from his ...  ...   1995-02-10   \n",
       "\n",
       "       revenue runtime                                   spoken_languages  \\\n",
       "0  373554033.0    81.0           [{'iso_639_1': 'en', 'name': 'English'}]   \n",
       "1  262797249.0   104.0  [{'iso_639_1': 'en', 'name': 'English'}, {'iso...   \n",
       "2          0.0   101.0           [{'iso_639_1': 'en', 'name': 'English'}]   \n",
       "3   81452156.0   127.0           [{'iso_639_1': 'en', 'name': 'English'}]   \n",
       "4   76578911.0   106.0           [{'iso_639_1': 'en', 'name': 'English'}]   \n",
       "\n",
       "     status                                            tagline  \\\n",
       "0  Released                                                NaN   \n",
       "1  Released          Roll the dice and unleash the excitement!   \n",
       "2  Released  Still Yelling. Still Fighting. Still Ready for...   \n",
       "3  Released  Friends are the people who let you be yourself...   \n",
       "4  Released  Just When His World Is Back To Normal... He's ...   \n",
       "\n",
       "                         title  video vote_average vote_count  \n",
       "0                    Toy Story  False          7.7     5415.0  \n",
       "1                      Jumanji  False          6.9     2413.0  \n",
       "2             Grumpier Old Men  False          6.5       92.0  \n",
       "3            Waiting to Exhale  False          6.1       34.0  \n",
       "4  Father of the Bride Part II  False          5.7      173.0  \n",
       "\n",
       "[5 rows x 24 columns]"
      ]
     },
     "execution_count": 23,
     "metadata": {},
     "output_type": "execute_result"
    }
   ],
   "source": [
    "# Load the dataset\n",
    "df = pd.read_csv(\"movies_metadata.csv\", low_memory=False)\n",
    "\n",
    "# Display first few rows\n",
    "print(df.head())\n"
   ]
  },
  {
   "cell_type": "markdown",
   "id": "bfc69653",
   "metadata": {},
   "source": [
    "Preprocessing and filtering\n"
   ]
  },
  {
   "cell_type": "markdown",
   "id": "e226d5b9",
   "metadata": {},
   "source": [
    "a"
   ]
  },
  {
   "cell_type": "code",
   "execution_count": null,
   "id": "b9fd2557",
   "metadata": {},
   "outputs": [
    {
     "name": "stdout",
     "output_type": "stream",
     "text": [
      "                                 title  vote_count  vote_average     score\n",
      "314           The Shawshank Redemption      8358.0           8.5  8.445869\n",
      "834                      The Godfather      6024.0           8.5  8.425439\n",
      "10309      Dilwale Dulhania Le Jayenge       661.0           9.1  8.421453\n",
      "12481                  The Dark Knight     12269.0           8.3  8.265477\n",
      "2843                        Fight Club      9678.0           8.3  8.256385\n",
      "292                       Pulp Fiction      8670.0           8.3  8.251406\n",
      "522                   Schindler's List      4436.0           8.3  8.206639\n",
      "23673                         Whiplash      4376.0           8.3  8.205404\n",
      "5481                     Spirited Away      3968.0           8.3  8.196055\n",
      "2211                 Life Is Beautiful      3643.0           8.3  8.187171\n",
      "1178            The Godfather: Part II      3418.0           8.3  8.180076\n",
      "1152   One Flew Over the Cuckoo's Nest      3001.0           8.3  8.164256\n",
      "351                       Forrest Gump      8147.0           8.2  8.150272\n",
      "1154           The Empire Strikes Back      5998.0           8.2  8.132919\n",
      "1176                            Psycho      2405.0           8.3  8.132715\n",
      "18465                 The Intouchables      5410.0           8.2  8.125837\n",
      "40251                       Your Name.      1030.0           8.5  8.112532\n",
      "289             Leon: The Professional      4293.0           8.2  8.107234\n",
      "3030                    The Green Mile      4166.0           8.2  8.104511\n",
      "1170                        GoodFellas      3211.0           8.2  8.077459\n"
     ]
    }
   ],
   "source": [
    "df_new = df.head(10000)\n",
    "c=df_new['vote_average'].mean()"
   ]
  },
  {
   "cell_type": "code",
   "execution_count": 25,
   "id": "5dade8dc",
   "metadata": {},
   "outputs": [
    {
     "name": "stdout",
     "output_type": "stream",
     "text": [
      "6.117420000000009\n"
     ]
    }
   ],
   "source": [
    "print(c)"
   ]
  },
  {
   "cell_type": "markdown",
   "id": "1715efa9",
   "metadata": {},
   "source": [
    "b"
   ]
  },
  {
   "cell_type": "code",
   "execution_count": 29,
   "id": "6b4e3649",
   "metadata": {},
   "outputs": [],
   "source": [
    "m = df_new['vote_count'].quantile(0.90)"
   ]
  },
  {
   "cell_type": "code",
   "execution_count": 30,
   "id": "09860609",
   "metadata": {},
   "outputs": [
    {
     "name": "stdout",
     "output_type": "stream",
     "text": [
      "381.0\n"
     ]
    }
   ],
   "source": [
    "print(m)"
   ]
  },
  {
   "cell_type": "markdown",
   "id": "2099bf29",
   "metadata": {},
   "source": [
    "c"
   ]
  },
  {
   "cell_type": "code",
   "execution_count": 36,
   "id": "cf767206",
   "metadata": {},
   "outputs": [
    {
     "name": "stdout",
     "output_type": "stream",
     "text": [
      "Movies greater than m: \n",
      "10000\n"
     ]
    }
   ],
   "source": [
    "print(\"Movies greater than m: \")\n",
    "q_movies = df_new.where(df['vote_count']>=m)\n",
    "print(len(q_movies))"
   ]
  },
  {
   "cell_type": "markdown",
   "id": "d9fc5d62",
   "metadata": {},
   "source": [
    "d IMDb"
   ]
  },
  {
   "cell_type": "code",
   "execution_count": 41,
   "id": "cfd89f5e",
   "metadata": {},
   "outputs": [
    {
     "name": "stdout",
     "output_type": "stream",
     "text": [
      "                                 title  vote_count  vote_average     score\n",
      "314           The Shawshank Redemption      8358.0           8.5  8.445869\n",
      "834                      The Godfather      6024.0           8.5  8.425439\n",
      "10309      Dilwale Dulhania Le Jayenge       661.0           9.1  8.421453\n",
      "12481                  The Dark Knight     12269.0           8.3  8.265477\n",
      "2843                        Fight Club      9678.0           8.3  8.256385\n",
      "292                       Pulp Fiction      8670.0           8.3  8.251406\n",
      "522                   Schindler's List      4436.0           8.3  8.206639\n",
      "23673                         Whiplash      4376.0           8.3  8.205404\n",
      "5481                     Spirited Away      3968.0           8.3  8.196055\n",
      "2211                 Life Is Beautiful      3643.0           8.3  8.187171\n",
      "1178            The Godfather: Part II      3418.0           8.3  8.180076\n",
      "1152   One Flew Over the Cuckoo's Nest      3001.0           8.3  8.164256\n",
      "351                       Forrest Gump      8147.0           8.2  8.150272\n",
      "1154           The Empire Strikes Back      5998.0           8.2  8.132919\n",
      "1176                            Psycho      2405.0           8.3  8.132715\n",
      "18465                 The Intouchables      5410.0           8.2  8.125837\n",
      "40251                       Your Name.      1030.0           8.5  8.112532\n",
      "289             Leon: The Professional      4293.0           8.2  8.107234\n",
      "3030                    The Green Mile      4166.0           8.2  8.104511\n",
      "1170                        GoodFellas      3211.0           8.2  8.077459\n"
     ]
    }
   ],
   "source": [
    "# Convert columns to numeric safely\n",
    "df['vote_average'] = pd.to_numeric(df['vote_average'], errors='coerce')\n",
    "df['vote_count'] = pd.to_numeric(df['vote_count'], errors='coerce')\n",
    "\n",
    "# Mean vote across all movies\n",
    "C = df['vote_average'].mean()\n",
    "\n",
    "# 90th percentile of vote counts\n",
    "m = df['vote_count'].quantile(0.90)\n",
    "\n",
    "# Qualified movies\n",
    "q_movies = df.loc[df['vote_count'] >= m].copy()\n",
    "\n",
    "# Weighted rating formula\n",
    "def weighted_rating(x, m=m, C=C):\n",
    "    v = x['vote_count']\n",
    "    R = x['vote_average']\n",
    "    return (v/(v+m) * R) + (m/(m+v) * C)\n",
    "\n",
    "# Add score column\n",
    "q_movies['score'] = q_movies.apply(weighted_rating, axis=1)\n",
    "\n",
    "# Top 20 movies sorted by score\n",
    "top20 = q_movies.sort_values('score', ascending=False).head(20)\n",
    "print(top20[['title', 'vote_count', 'vote_average', 'score']])\n"
   ]
  },
  {
   "cell_type": "markdown",
   "id": "5cd57201",
   "metadata": {},
   "source": [
    "TF-IDF"
   ]
  },
  {
   "cell_type": "code",
   "execution_count": null,
   "id": "753d25dc",
   "metadata": {},
   "outputs": [
    {
     "name": "stdout",
     "output_type": "stream",
     "text": [
      "Mean vote average (C): 6.117420000000009\n",
      "90th percentile of vote counts (m): 381.0\n",
      "Number of qualified movies: 1001\n",
      "                                              title  vote_count  vote_average  \\\n",
      "314                        The Shawshank Redemption      8358.0           8.5   \n",
      "834                                   The Godfather      6024.0           8.5   \n",
      "2843                                     Fight Club      9678.0           8.3   \n",
      "292                                    Pulp Fiction      8670.0           8.3   \n",
      "522                                Schindler's List      4436.0           8.3   \n",
      "5481                                  Spirited Away      3968.0           8.3   \n",
      "351                                    Forrest Gump      8147.0           8.2   \n",
      "2211                              Life Is Beautiful      3643.0           8.3   \n",
      "1178                         The Godfather: Part II      3418.0           8.3   \n",
      "1154                        The Empire Strikes Back      5998.0           8.2   \n",
      "1152                One Flew Over the Cuckoo's Nest      3001.0           8.3   \n",
      "289                          Leon: The Professional      4293.0           8.2   \n",
      "3030                                 The Green Mile      4166.0           8.2   \n",
      "7000  The Lord of the Rings: The Return of the King      8226.0           8.1   \n",
      "1176                                         Psycho      2405.0           8.3   \n",
      "256                                       Star Wars      6778.0           8.1   \n",
      "46                                            Se7en      5915.0           8.1   \n",
      "1170                                     GoodFellas      3211.0           8.2   \n",
      "2216                             American History X      3120.0           8.2   \n",
      "586                        The Silence of the Lambs      4549.0           8.1   \n",
      "\n",
      "         score  \n",
      "314   8.396125  \n",
      "834   8.358273  \n",
      "2843  8.217331  \n",
      "292   8.208125  \n",
      "522   8.127369  \n",
      "5481  8.108792  \n",
      "351   8.106958  \n",
      "2211  8.093349  \n",
      "1178  8.081110  \n",
      "1154  8.075613  \n",
      "1152  8.054121  \n",
      "289   8.030239  \n",
      "3030  8.025497  \n",
      "7000  8.012239  \n",
      "1176  8.001521  \n",
      "256   7.994488  \n",
      "46    7.980025  \n",
      "1170  7.979103  \n",
      "2216  7.973361  \n",
      "586   7.946782  \n",
      "TF-IDF shape: (1001, 9013)\n",
      "['marcus', 'mare', 'marge', 'marginalization', 'maria', 'mariachi', 'marian', 'mariana', 'marie', 'marijuana']\n"
     ]
    }
   ],
   "source": [
    "import pandas as pd\n",
    "from sklearn.feature_extraction.text import TfidfVectorizer\n",
    "from sklearn.metrics.pairwise import cosine_similarity, linear_kernel\n",
    "\n",
    "# -------------------------------\n",
    "# 1. Load dataset (first 10,000 rows only)\n",
    "# -------------------------------\n",
    "df = pd.read_csv(\"movies_metadata.csv\", low_memory=False)\n",
    "df_new = df.head(10000).copy()   # proper copy to avoid warnings\n",
    "\n",
    "# -------------------------------\n",
    "# 2. Convert vote columns to numeric\n",
    "# -------------------------------\n",
    "df_new['vote_average'] = pd.to_numeric(df_new['vote_average'], errors='coerce')\n",
    "df_new['vote_count'] = pd.to_numeric(df_new['vote_count'], errors='coerce')\n",
    "\n",
    "# -------------------------------\n",
    "# 3. Compute C (mean rating) and m (90th percentile of vote counts)\n",
    "# -------------------------------\n",
    "C = df_new['vote_average'].mean()\n",
    "m = df_new['vote_count'].quantile(0.90)\n",
    "\n",
    "print(\"Mean vote average (C):\", C)\n",
    "print(\"90th percentile of vote counts (m):\", m)\n",
    "\n",
    "# -------------------------------\n",
    "# 4. Filter qualified movies (vote_count >= m)\n",
    "# -------------------------------\n",
    "q_movies = df_new.loc[df_new['vote_count'] >= m].copy()\n",
    "print(\"Number of qualified movies:\", q_movies.shape[0])   # should be ~1001\n",
    "\n",
    "# -------------------------------\n",
    "# 5. Weighted rating function\n",
    "# -------------------------------\n",
    "def weighted_rating(x, m=m, C=C):\n",
    "    v = x['vote_count']\n",
    "    R = x['vote_average']\n",
    "    return (v/(v+m) * R) + (m/(m+v) * C)\n",
    "\n",
    "# Add score column\n",
    "q_movies['score'] = q_movies.apply(weighted_rating, axis=1)\n",
    "\n",
    "# 6 \n",
    "top20 = q_movies.sort_values('score', ascending=False).head(20)\n",
    "print(top20[['title', 'vote_count', 'vote_average', 'score']])\n",
    "\n",
    "# 7. TF–IDF on overviews (only qualified movies)\n",
    "\n",
    "# Replace NaN with empty strings\n",
    "q_movies.loc[:, 'overview'] = q_movies['overview'].fillna('')\n",
    "\n",
    "# TF-IDF Vectorizer\n",
    "tfidf = TfidfVectorizer(stop_words='english')\n",
    "\n",
    "# Construct TF-IDF matrix\n",
    "tfidf_matrix = tfidf.fit_transform(q_movies['overview'])\n",
    "\n",
    "# Shape of matrix\n",
    "print(\"TF-IDF shape:\", tfidf_matrix.shape)   # ✅ should be (1001, 9013)\n",
    "\n",
    "# Feature names (indices 5000–5009)\n",
    "try:\n",
    "    feature_names = tfidf.get_feature_names_out()\n",
    "except AttributeError:\n",
    "    feature_names = tfidf.get_feature_names()\n",
    "\n",
    "print(feature_names[5000:5010])\n"
   ]
  },
  {
   "cell_type": "code",
   "execution_count": 55,
   "id": "a961401c",
   "metadata": {},
   "outputs": [
    {
     "name": "stdout",
     "output_type": "stream",
     "text": [
      "Total qualified movies: 998\n",
      "\n",
      "Sample of selected movies:\n",
      "['Toy Story', 'Jumanji', 'Heat', 'GoldenEye', 'Balto', 'Casino', 'Four Rooms', 'Ace Ventura: When Nature Calls', 'Assassins', 'Twelve Monkeys', 'Babe', 'Clueless', 'Mortal Kombat', 'Se7en', 'Pocahontas']\n"
     ]
    }
   ],
   "source": [
    "# -------------------------------\n",
    "# 8. Show some of the selected movies\n",
    "# -------------------------------\n",
    "selected_movies = q_movies['title'].dropna().unique().tolist()\n",
    "\n",
    "print(\"Total qualified movies:\", len(selected_movies))\n",
    "print(\"\\nSample of selected movies:\")\n",
    "print(selected_movies[:15])   # first 15 as a preview\n"
   ]
  },
  {
   "cell_type": "code",
   "execution_count": 56,
   "id": "60f99461",
   "metadata": {},
   "outputs": [
    {
     "name": "stdout",
     "output_type": "stream",
     "text": [
      "Cosine similarity matrix shape: (1001, 1001)\n",
      "Index of 'The Dark Knight': Not Found\n"
     ]
    }
   ],
   "source": [
    "# -------------------------------\n",
    "# 9. Compute Cosine Similarity\n",
    "# -------------------------------\n",
    "cosine_sim = linear_kernel(tfidf_matrix, tfidf_matrix)\n",
    "print(\"Cosine similarity matrix shape:\", cosine_sim.shape)   # should be (1001, 1001)\n",
    "\n",
    "# -------------------------------\n",
    "# 10. Reverse lookup map: movie title -> index\n",
    "# -------------------------------\n",
    "q_movies['title_clean'] = q_movies['title'].str.strip().str.lower()\n",
    "\n",
    "# Build reverse index map\n",
    "indices = pd.Series(q_movies.index, index=q_movies['title_clean']).drop_duplicates()\n",
    "\n",
    "# -------------------------------\n",
    "# 11. Test lookup\n",
    "# -------------------------------\n",
    "test_title = \"The Dark Knight\"\n",
    "idx = indices.get(test_title.strip().lower(), \"Not Found\")\n",
    "print(f\"Index of '{test_title}':\", idx)\n"
   ]
  },
  {
   "cell_type": "code",
   "execution_count": null,
   "id": "bc6d9d82",
   "metadata": {},
   "outputs": [],
   "source": []
  }
 ],
 "metadata": {
  "kernelspec": {
   "display_name": "base",
   "language": "python",
   "name": "python3"
  },
  "language_info": {
   "codemirror_mode": {
    "name": "ipython",
    "version": 3
   },
   "file_extension": ".py",
   "mimetype": "text/x-python",
   "name": "python",
   "nbconvert_exporter": "python",
   "pygments_lexer": "ipython3",
   "version": "3.8.8"
  }
 },
 "nbformat": 4,
 "nbformat_minor": 5
}
