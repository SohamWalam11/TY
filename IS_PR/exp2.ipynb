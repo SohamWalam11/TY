{
 "cells": [
  {
   "cell_type": "markdown",
   "id": "454e3dd4",
   "metadata": {},
   "source": [
    "using DFID"
   ]
  },
  {
   "cell_type": "code",
   "execution_count": 2,
   "id": "3607b010",
   "metadata": {},
   "outputs": [],
   "source": [
    "from typing import List, Tuple, Optional, Dict, Set"
   ]
  },
  {
   "cell_type": "code",
   "execution_count": 3,
   "id": "64bd92a2",
   "metadata": {},
   "outputs": [],
   "source": [
    "State = Tuple[int, ...]\n",
    "GOAL: State = (1,2,3,4,5,6,7,8,0)\n",
    "\n",
    "def is_solvable(s: State) -> bool:\n",
    " # inversion count method\n",
    " arr = [x for x in s if x]\n",
    " inv = sum(arr[i] > arr[j] for i in range(len(arr)) for j in range(i+1, len(arr)))\n",
    " return inv % 2 == 0\n",
    "\n"
   ]
  },
  {
   "cell_type": "code",
   "execution_count": 4,
   "id": "7803056d",
   "metadata": {},
   "outputs": [],
   "source": [
    "def neighbors(s: State) -> List[Tuple[State,str]]:\n",
    " i = s.index(0); r, c = divmod(i, 3)\n",
    " def swap(a, b):\n",
    "     lst = list(s); lst[a], lst[b] = lst[b], lst[a]; return tuple(lst)\n",
    " moves = []\n",
    " if r > 0: moves.append((swap(i, i-3), 'U'))\n",
    " if r < 2: moves.append((swap(i, i+3), 'D'))\n",
    " if c > 0: moves.append((swap(i, i-1), 'L'))\n",
    " if c < 2: moves.append((swap(i, i+1), 'R'))\n",
    " return moves"
   ]
  },
  {
   "cell_type": "code",
   "execution_count": 5,
   "id": "0b0bca22",
   "metadata": {},
   "outputs": [],
   "source": [
    "def dls(start: State, limit: int, stats: Dict[str,int]) -> Tuple[Optional[List[str]], bool]:\n",
    " cutoff = False\n",
    " stack = [(start, 0)]\n",
    " parent = {start: None}\n",
    " move_to = {start: None}\n",
    " pathset = {start}\n",
    "\n",
    " while stack:\n",
    "     s, d = stack.pop()\n",
    "     if s == GOAL:\n",
    "         path = []\n",
    "         while move_to[s]:\n",
    "             path.append(move_to[s])\n",
    "             s = parent[s]\n",
    "         return path[::-1], False\n",
    "     if d == limit:\n",
    "         cutoff = True\n",
    "         continue\n",
    "     for nxt, m in neighbors(s):\n",
    "         stats[\"gen\"] += 1\n",
    "         if nxt in pathset:\n",
    "             stats[\"cycle\"] += 1\n",
    "             continue\n",
    "         parent[nxt], move_to[nxt] = s, m\n",
    "         pathset.add(nxt)\n",
    "         stack.append((nxt, d+1))\n",
    "     stats[\"exp\"] += 1\n",
    "     pathset.remove(s)\n",
    " return None, cutoff"
   ]
  },
  {
   "cell_type": "code",
   "execution_count": 6,
   "id": "50edef1b",
   "metadata": {},
   "outputs": [],
   "source": [
    "def dfid(start: State, maxd=40):\n",
    " if not is_solvable(start):\n",
    "     return None, {\"solvable\": False}\n",
    " stats = {\"exp\":0, \"gen\":0, \"cycle\":0}\n",
    " for limit in range(maxd+1):\n",
    "     st = {\"exp\":0, \"gen\":0, \"cycle\":0}\n",
    "     path, cut = dls(start, limit, st)\n",
    "     for k in stats: stats[k] += st[k]\n",
    "     if path:\n",
    "         return path, {**stats, \"solvable\": True, \"depth\": limit, \"sol_depth\": len(path)}\n",
    "     if not cut:\n",
    "         return None, {**stats, \"solvable\": False, \"depth\": limit}\n",
    " return None, {**stats, \"solvable\": False}"
   ]
  },
  {
   "cell_type": "code",
   "execution_count": 7,
   "id": "1c408555",
   "metadata": {},
   "outputs": [],
   "source": [
    "\n",
    "def pretty(s: State) -> str:\n",
    " return \"\\n\".join(\" \".join(f\"{v:2}\" if v else \"  \" for v in s[i:i+3]) for i in range(0,9,3))\n",
    "\n",
    "\n",
    "def apply_moves(s: State, moves: List[str]) -> State:\n",
    " for m in moves:\n",
    "     s = [n for n,m2 in neighbors(s) if m2 == m][0]\n",
    " return s"
   ]
  },
  {
   "cell_type": "code",
   "execution_count": 9,
   "id": "c9ec6d08",
   "metadata": {},
   "outputs": [
    {
     "name": "stdout",
     "output_type": "stream",
     "text": [
      "Start:\n",
      "  1  2  3\n",
      " 4     5\n",
      " 6  7  8 \n",
      "\n"
     ]
    },
    {
     "ename": "MemoryError",
     "evalue": "",
     "output_type": "error",
     "traceback": [
      "\u001b[1;31m---------------------------------------------------------------------------\u001b[0m",
      "\u001b[1;31mMemoryError\u001b[0m                               Traceback (most recent call last)",
      "Cell \u001b[1;32mIn[9], line 7\u001b[0m\n\u001b[0;32m      1\u001b[0m start \u001b[38;5;241m=\u001b[39m (\u001b[38;5;241m1\u001b[39m,\u001b[38;5;241m2\u001b[39m,\u001b[38;5;241m3\u001b[39m,\n\u001b[0;32m      2\u001b[0m       \u001b[38;5;241m4\u001b[39m,\u001b[38;5;241m0\u001b[39m,\u001b[38;5;241m5\u001b[39m,\n\u001b[0;32m      3\u001b[0m       \u001b[38;5;241m6\u001b[39m,\u001b[38;5;241m7\u001b[39m,\u001b[38;5;241m8\u001b[39m)\n\u001b[0;32m      5\u001b[0m \u001b[38;5;28mprint\u001b[39m(\u001b[38;5;124m\"\u001b[39m\u001b[38;5;124mStart:\u001b[39m\u001b[38;5;130;01m\\n\u001b[39;00m\u001b[38;5;124m\"\u001b[39m, pretty(start), \u001b[38;5;124m\"\u001b[39m\u001b[38;5;130;01m\\n\u001b[39;00m\u001b[38;5;124m\"\u001b[39m)\n\u001b[1;32m----> 7\u001b[0m path, stats \u001b[38;5;241m=\u001b[39m \u001b[43mdfid\u001b[49m\u001b[43m(\u001b[49m\u001b[43mstart\u001b[49m\u001b[43m,\u001b[49m\u001b[43m \u001b[49m\u001b[38;5;241;43m20\u001b[39;49m\u001b[43m)\u001b[49m\n\u001b[0;32m      9\u001b[0m \u001b[38;5;28;01mif\u001b[39;00m path: \n\u001b[0;32m     10\u001b[0m  \u001b[38;5;28mprint\u001b[39m(\u001b[38;5;124mf\u001b[39m\u001b[38;5;124m\"\u001b[39m\u001b[38;5;124mSolution depth \u001b[39m\u001b[38;5;132;01m{\u001b[39;00m\u001b[38;5;28mlen\u001b[39m(path)\u001b[38;5;132;01m}\u001b[39;00m\u001b[38;5;124m\"\u001b[39m)\n",
      "Cell \u001b[1;32mIn[6], line 7\u001b[0m, in \u001b[0;36mdfid\u001b[1;34m(start, maxd)\u001b[0m\n\u001b[0;32m      5\u001b[0m \u001b[38;5;28;01mfor\u001b[39;00m limit \u001b[38;5;129;01min\u001b[39;00m \u001b[38;5;28mrange\u001b[39m(maxd\u001b[38;5;241m+\u001b[39m\u001b[38;5;241m1\u001b[39m):\n\u001b[0;32m      6\u001b[0m     st \u001b[38;5;241m=\u001b[39m {\u001b[38;5;124m\"\u001b[39m\u001b[38;5;124mexp\u001b[39m\u001b[38;5;124m\"\u001b[39m:\u001b[38;5;241m0\u001b[39m, \u001b[38;5;124m\"\u001b[39m\u001b[38;5;124mgen\u001b[39m\u001b[38;5;124m\"\u001b[39m:\u001b[38;5;241m0\u001b[39m, \u001b[38;5;124m\"\u001b[39m\u001b[38;5;124mcycle\u001b[39m\u001b[38;5;124m\"\u001b[39m:\u001b[38;5;241m0\u001b[39m}\n\u001b[1;32m----> 7\u001b[0m     path, cut \u001b[38;5;241m=\u001b[39m \u001b[43mdls\u001b[49m\u001b[43m(\u001b[49m\u001b[43mstart\u001b[49m\u001b[43m,\u001b[49m\u001b[43m \u001b[49m\u001b[43mlimit\u001b[49m\u001b[43m,\u001b[49m\u001b[43m \u001b[49m\u001b[43mst\u001b[49m\u001b[43m)\u001b[49m\n\u001b[0;32m      8\u001b[0m     \u001b[38;5;28;01mfor\u001b[39;00m k \u001b[38;5;129;01min\u001b[39;00m stats: stats[k] \u001b[38;5;241m+\u001b[39m\u001b[38;5;241m=\u001b[39m st[k]\n\u001b[0;32m      9\u001b[0m     \u001b[38;5;28;01mif\u001b[39;00m path:\n",
      "Cell \u001b[1;32mIn[5], line 13\u001b[0m, in \u001b[0;36mdls\u001b[1;34m(start, limit, stats)\u001b[0m\n\u001b[0;32m     11\u001b[0m path \u001b[38;5;241m=\u001b[39m []\n\u001b[0;32m     12\u001b[0m \u001b[38;5;28;01mwhile\u001b[39;00m move_to[s]:\n\u001b[1;32m---> 13\u001b[0m     path\u001b[38;5;241m.\u001b[39mappend(move_to[s])\n\u001b[0;32m     14\u001b[0m     s \u001b[38;5;241m=\u001b[39m parent[s]\n\u001b[0;32m     15\u001b[0m \u001b[38;5;28;01mreturn\u001b[39;00m path[::\u001b[38;5;241m-\u001b[39m\u001b[38;5;241m1\u001b[39m], \u001b[38;5;28;01mFalse\u001b[39;00m\n",
      "\u001b[1;31mMemoryError\u001b[0m: "
     ]
    }
   ],
   "source": [
    "start = (1,2,3,\n",
    "      4,0,5,\n",
    "      6,7,8)\n",
    "\n",
    "print(\"Start:\\n\", pretty(start), \"\\n\")\n",
    "\n",
    "path, stats = dfid(start, 20)\n",
    "\n",
    "if path: \n",
    " print(f\"Solution depth {len(path)}\")\n",
    " print(\"Moves:\", ' '.join(path))\n",
    " s = start\n",
    " for i, m in enumerate(path, 1):\n",
    "     s = apply_moves(s, [m])\n",
    "     print(f\"\\nStep {i}: {m}\\n{pretty(s)}\")\n",
    " print(\"\\nStats:\", stats)\n",
    "else:\n",
    " print(\"No solution found within depth limit.\", stats)"
   ]
  },
  {
   "cell_type": "code",
   "execution_count": null,
   "id": "bda05d81",
   "metadata": {},
   "outputs": [],
   "source": []
  }
 ],
 "metadata": {
  "kernelspec": {
   "display_name": "base",
   "language": "python",
   "name": "python3"
  },
  "language_info": {
   "codemirror_mode": {
    "name": "ipython",
    "version": 3
   },
   "file_extension": ".py",
   "mimetype": "text/x-python",
   "name": "python",
   "nbconvert_exporter": "python",
   "pygments_lexer": "ipython3",
   "version": "3.11.5"
  }
 },
 "nbformat": 4,
 "nbformat_minor": 5
}
